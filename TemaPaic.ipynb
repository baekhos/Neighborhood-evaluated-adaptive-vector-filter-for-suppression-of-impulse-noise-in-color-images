{
 "cells": [
  {
   "cell_type": "markdown",
   "metadata": {},
   "source": [
    "# PRELUCRAREA SI ANALIZA IMAGINILOR COLOR- Proiect\n",
    "\n",
    "## Agloritmul:A neighborhood evaluated adaptive vector filter for suppression of impulse noise in color images\n",
    "\n",
    "### Citirea si schibarea rezolutiei pozelor:"
   ]
  },
  {
   "cell_type": "code",
   "execution_count": 1,
   "metadata": {},
   "outputs": [
    {
     "name": "stderr",
     "output_type": "stream",
     "text": [
      "C:\\Users\\Nitroi\\AppData\\Local\\Continuum\\anaconda3\\envs\\PAIC\\lib\\site-packages\\skimage\\transform\\_warps.py:105: UserWarning: The default mode, 'constant', will be changed to 'reflect' in skimage 0.15.\n",
      "  warn(\"The default mode, 'constant', will be changed to 'reflect' in \"\n",
      "C:\\Users\\Nitroi\\AppData\\Local\\Continuum\\anaconda3\\envs\\PAIC\\lib\\site-packages\\skimage\\transform\\_warps.py:110: UserWarning: Anti-aliasing will be enabled by default in skimage 0.15 to avoid aliasing artifacts when down-sampling images.\n",
      "  warn(\"Anti-aliasing will be enabled by default in skimage 0.15 to \"\n"
     ]
    },
    {
     "data": {
      "text/plain": [
       "<Figure size 2000x6000 with 6 Axes>"
      ]
     },
     "metadata": {},
     "output_type": "display_data"
    }
   ],
   "source": [
    "from skimage import io,color,util\n",
    "import matplotlib.pyplot as plt\n",
    "import numpy as np\n",
    "from skimage.transform import rescale, resize\n",
    "import skimage as sk\n",
    "\n",
    "size = (480, 640)\n",
    "fig=plt.figure(figsize=(20,60))\n",
    "img1 = io.imread('img/pic1.jpg')\n",
    "img1 = resize(img1, size,anti_aliasing=True)#,anti_aliasing=True)\\\\\n",
    "\n",
    "img2 = io.imread('img/pic2.jpg')\n",
    "img2 = resize(img2, size)\n",
    "\n",
    "img3 = io.imread('img/pic3.jpg')\n",
    "img3 = resize(img3, size)\n",
    "\n",
    "img4 = io.imread('img/pic4.jpg')\n",
    "img4 = resize(img4, size)\n",
    "\n",
    "img5 = io.imread('img/pic5.jpg')\n",
    "img5 = resize(img5, size)\n",
    "\n",
    "img6 = io.imread('img/pic6.jpg')\n",
    "img6 = resize(img6, size)\n",
    "\n",
    "\n",
    "fig.suptitle('Imagini initiale', fontsize=20)\n",
    "ax1 = fig.add_subplot(611)\n",
    "ax2 = fig.add_subplot(612)\n",
    "ax3 = fig.add_subplot(613)\n",
    "ax4 = fig.add_subplot(614)\n",
    "ax5 = fig.add_subplot(615)\n",
    "ax6 = fig.add_subplot(616)\n",
    "ax1.title.set_text('Imaginea 1')\n",
    "ax2.title.set_text('Imaginea 2')\n",
    "ax3.title.set_text('Imaginea 3')\n",
    "ax4.title.set_text('Imaginea 4')\n",
    "ax5.title.set_text('Imaginea 5')\n",
    "ax6.title.set_text('Imaginea 6')\n",
    "ax1.imshow(img1)\n",
    "ax2.imshow(img2)\n",
    "ax3.imshow(img3)\n",
    "ax4.imshow(img4)\n",
    "ax5.imshow(img5)\n",
    "ax6.imshow(img6)\n",
    "plt.show()\n",
    "\n",
    "\n"
   ]
  },
  {
   "cell_type": "markdown",
   "metadata": {
    "collapsed": true
   },
   "source": [
    "### Functiile pentru zgomot Gaussian, respectiv zgomot impulsiv."
   ]
  },
  {
   "cell_type": "code",
   "execution_count": 2,
   "metadata": {},
   "outputs": [
    {
     "ename": "ModuleNotFoundError",
     "evalue": "No module named 'cv2'",
     "output_type": "error",
     "traceback": [
      "\u001b[1;31m---------------------------------------------------------------------------\u001b[0m",
      "\u001b[1;31mModuleNotFoundError\u001b[0m                       Traceback (most recent call last)",
      "\u001b[1;32m<ipython-input-2-6c4036621ae6>\u001b[0m in \u001b[0;36m<module>\u001b[1;34m\u001b[0m\n\u001b[0;32m      1\u001b[0m \u001b[1;32mimport\u001b[0m \u001b[0mos\u001b[0m\u001b[1;33m\u001b[0m\u001b[1;33m\u001b[0m\u001b[0m\n\u001b[1;32m----> 2\u001b[1;33m \u001b[1;32mimport\u001b[0m \u001b[0mcv2\u001b[0m\u001b[1;33m\u001b[0m\u001b[1;33m\u001b[0m\u001b[0m\n\u001b[0m\u001b[0;32m      3\u001b[0m \u001b[1;32mdef\u001b[0m \u001b[0mgaussianNoise\u001b[0m\u001b[1;33m(\u001b[0m\u001b[0mimage\u001b[0m\u001b[1;33m,\u001b[0m\u001b[0msigma\u001b[0m\u001b[1;33m)\u001b[0m\u001b[1;33m:\u001b[0m\u001b[1;33m\u001b[0m\u001b[1;33m\u001b[0m\u001b[0m\n\u001b[0;32m      4\u001b[0m       \u001b[0mrow\u001b[0m\u001b[1;33m,\u001b[0m\u001b[0mcol\u001b[0m\u001b[1;33m,\u001b[0m\u001b[0mch\u001b[0m\u001b[1;33m=\u001b[0m \u001b[0mimage\u001b[0m\u001b[1;33m.\u001b[0m\u001b[0mshape\u001b[0m\u001b[1;33m\u001b[0m\u001b[1;33m\u001b[0m\u001b[0m\n\u001b[0;32m      5\u001b[0m       \u001b[0mmean\u001b[0m \u001b[1;33m=\u001b[0m \u001b[1;36m0\u001b[0m\u001b[1;33m\u001b[0m\u001b[1;33m\u001b[0m\u001b[0m\n",
      "\u001b[1;31mModuleNotFoundError\u001b[0m: No module named 'cv2'"
     ]
    }
   ],
   "source": [
    "import os\n",
    "import cv2\n",
    "def gaussianNoise(image,sigma):\n",
    "      row,col,ch= image.shape\n",
    "      mean = 0 \n",
    "      gauss = np.random.normal(mean,sigma,(row,col,ch))\n",
    "      gauss = gauss.reshape(row,col,ch)\n",
    "      noisy = image + gauss\n",
    "      return noisy\n",
    "def saltpepper(image,area):\n",
    "      row,col,ch = image.shape\n",
    "      s_vs_p = 0.5\n",
    "      amount = area/2\n",
    "      #half for salt and half for pepper\n",
    "      out = np.copy(image)\n",
    "      # Salt mode\n",
    "      num_salt = np.ceil(amount * image.size * s_vs_p)\n",
    "      coords = [np.random.randint(0, i - 1, int(num_salt))\n",
    "              for i in image.shape]\n",
    "      out[coords] = 1\n",
    "\n",
    "      # Pepper mode\n",
    "      num_pepper = np.ceil(amount* image.size * (1. - s_vs_p))\n",
    "      coords = [np.random.randint(0, i - 1, int(num_pepper))\n",
    "              for i in image.shape]\n",
    "      out[coords] = 0\n",
    "      return out"
   ]
  },
  {
   "cell_type": "markdown",
   "metadata": {},
   "source": [
    "### Adaugarea zgomotului pe imagini"
   ]
  },
  {
   "cell_type": "code",
   "execution_count": null,
   "metadata": {},
   "outputs": [],
   "source": [
    "Lista_imgZgomotGaussian=[]\n",
    "Lista_imgZgomotImpulsiv=[]\n",
    "\n",
    "img1ZG=gaussianNoise(img1,0.1)\n",
    "img1ZI=saltpepper(img1,0.1)\n",
    "Lista_imgZgomotGaussian.append(img1ZG)\n",
    "Lista_imgZgomotImpulsiv.append(img1ZI)\n",
    "\n",
    "img2ZG=gaussianNoise(img2,0.1)\n",
    "img2ZI=saltpepper(img2,0.1)\n",
    "Lista_imgZgomotGaussian.append(img2ZG)\n",
    "Lista_imgZgomotImpulsiv.append(img2ZI)\n",
    "\n",
    "img3ZG=gaussianNoise(img3,0.1)\n",
    "img3ZI=saltpepper(img3,0.1)\n",
    "Lista_imgZgomotGaussian.append(img3ZG)\n",
    "Lista_imgZgomotImpulsiv.append(img3ZI)\n",
    "\n",
    "img4ZG=gaussianNoise(img4,0.1)\n",
    "img4ZI=saltpepper(img4,0.1)\n",
    "Lista_imgZgomotGaussian.append(img4ZG)\n",
    "Lista_imgZgomotImpulsiv.append(img4ZI)\n",
    "\n",
    "img5ZG=gaussianNoise(img5,0.1)\n",
    "img5ZI=saltpepper(img5,0.1)\n",
    "Lista_imgZgomotGaussian.append(img5ZG)\n",
    "Lista_imgZgomotImpulsiv.append(img5ZI)\n",
    "\n",
    "img6ZG=gaussianNoise(img6,0.1)\n",
    "img6ZI=saltpepper(img6,0.1)\n",
    "Lista_imgZgomotGaussian.append(img6ZG)\n",
    "Lista_imgZgomotImpulsiv.append(img6ZI)"
   ]
  },
  {
   "cell_type": "markdown",
   "metadata": {},
   "source": [
    "### Implementarea filtrelor clasice mediere si medie aritmetca"
   ]
  },
  {
   "cell_type": "code",
   "execution_count": null,
   "metadata": {},
   "outputs": [],
   "source": [
    "def medianFilter(img):\n",
    "    L,l,_=img.shape    \n",
    "    imag = img.astype(np.float64).copy()\n",
    "    for i in range(1,L-1):\n",
    "        for j in range(1,l-1):\n",
    "            vR=np.sort(img[i-1:i+2,j-1:j+2,0],axis=None)\n",
    "            vG=np.sort(img[i-1:i+2,j-1:j+2,1],axis=None)\n",
    "            vB=np.sort(img[i-1:i+2,j-1:j+2,2],axis=None)\n",
    "            mean=np.array([vR[4],vG[4],vB[4]])\n",
    "            imag [i,j,0] = vR[4]\n",
    "            imag [i,j,1] = vG[4]\n",
    "            imag [i,j,2] = vB[4]\n",
    "    return imag\n",
    "def aritmeticFilter(img):\n",
    "    L,l,_=img.shape\n",
    "    imag = img.astype(np.float64).copy()\n",
    "    for i in range(1,L-1):\n",
    "        for j in range(1,l-1):\n",
    "            imag [i,j,0] = np.sum(img[i-1:i+2,j-1:j+2,0])/9\n",
    "            imag [i,j,1] = np.sum(img[i-1:i+2,j-1:j+2,1])/9\n",
    "            imag [i,j,2] = np.sum(img[i-1:i+2,j-1:j+2,2])/9\n",
    "    return imag"
   ]
  },
  {
   "cell_type": "markdown",
   "metadata": {},
   "source": [
    "## Comparatia rezultatlor celor 3 filtre\n",
    "### Imaginea 1"
   ]
  },
  {
   "cell_type": "code",
   "execution_count": null,
   "metadata": {},
   "outputs": [],
   "source": [
    "index=0\n",
    "fig=plt.figure(figsize=(20,60))\n",
    "imgZG_afterMedian=medianFilter(Lista_imgZgomotGaussian[index])\n",
    "imgZG_afterAritmetic=aritmeticFilter(Lista_imgZgomotGaussian[index])\n",
    "\n",
    "\n",
    "imgZI_afterMedian=medianFilter(Lista_imgZgomotImpulsiv[index])\n",
    "imgZI_afterAritmetic=aritmeticFilter(Lista_imgZgomotImpulsiv[index])\n",
    "\n",
    "\n",
    "\n",
    "fig.suptitle('Pentru imaginea 1:', fontsize=20)\n",
    "ax1 = fig.add_subplot(611)\n",
    "ax2 = fig.add_subplot(612)\n",
    "ax3 = fig.add_subplot(613)\n",
    "ax4 = fig.add_subplot(614)\n",
    "ax5 = fig.add_subplot(615)\n",
    "ax6 = fig.add_subplot(616)\n",
    "ax1.title.set_text('Imaginea afectata de zgomot gaussian')\n",
    "ax2.title.set_text('Imaginea afectata de zgomot gaussian dupa filtrul median')\n",
    "ax3.title.set_text('Imaginea afectata de zgomot gaussian dupa filtrul medie aritmetica')\n",
    "ax4.title.set_text('Imaginea afectata de zgomot impulsiv')\n",
    "ax5.title.set_text('Imaginea afectata de zgomot impulsiv dupa filtrul median')\n",
    "ax6.title.set_text('Imaginea afectata de zgomot impulsiv dupa filtrul medie aritmetica')\n",
    "ax1.imshow(Lista_imgZgomotGaussian[index])\n",
    "ax2.imshow(imgZG_afterMedian)\n",
    "ax3.imshow(imgZG_afterAritmetic)\n",
    "ax4.imshow(Lista_imgZgomotImpulsiv[index])\n",
    "ax5.imshow(imgZI_afterMedian)\n",
    "ax6.imshow(imgZI_afterAritmetic)\n",
    "plt.show()"
   ]
  },
  {
   "cell_type": "markdown",
   "metadata": {},
   "source": [
    "### Imaginea 2"
   ]
  },
  {
   "cell_type": "code",
   "execution_count": null,
   "metadata": {},
   "outputs": [],
   "source": [
    "index=1\n",
    "fig=plt.figure(figsize=(20,60))\n",
    "imgZG_afterMedian=medianFilter(Lista_imgZgomotGaussian[index])\n",
    "imgZG_afterAritmetic=aritmeticFilter(Lista_imgZgomotGaussian[index])\n",
    "\n",
    "\n",
    "imgZI_afterMedian=medianFilter(Lista_imgZgomotImpulsiv[index])\n",
    "imgZI_afterAritmetic=aritmeticFilter(Lista_imgZgomotImpulsiv[index])\n",
    "\n",
    "\n",
    "\n",
    "fig.suptitle('Pentru imaginea 2:', fontsize=20)\n",
    "ax1 = fig.add_subplot(611)\n",
    "ax2 = fig.add_subplot(612)\n",
    "ax3 = fig.add_subplot(613)\n",
    "ax4 = fig.add_subplot(614)\n",
    "ax5 = fig.add_subplot(615)\n",
    "ax6 = fig.add_subplot(616)\n",
    "ax1.title.set_text('Imaginea afectata de zgomot gaussian')\n",
    "ax2.title.set_text('Imaginea afectata de zgomot gaussian dupa filtrul median')\n",
    "ax3.title.set_text('Imaginea afectata de zgomot gaussian dupa filtrul medie aritmetica')\n",
    "ax4.title.set_text('Imaginea afectata de zgomot impulsiv')\n",
    "ax5.title.set_text('Imaginea afectata de zgomot impulsiv dupa filtrul median')\n",
    "ax6.title.set_text('Imaginea afectata de zgomot impulsiv dupa filtrul medie aritmetica')\n",
    "ax1.imshow(Lista_imgZgomotGaussian[index])\n",
    "ax2.imshow(imgZG_afterMedian)\n",
    "ax3.imshow(imgZG_afterAritmetic)\n",
    "ax4.imshow(Lista_imgZgomotImpulsiv[index])\n",
    "ax5.imshow(imgZI_afterMedian)\n",
    "ax6.imshow(imgZI_afterAritmetic)\n",
    "plt.show()"
   ]
  },
  {
   "cell_type": "markdown",
   "metadata": {},
   "source": [
    "### Imaginea 3"
   ]
  },
  {
   "cell_type": "code",
   "execution_count": null,
   "metadata": {},
   "outputs": [],
   "source": [
    "index=2\n",
    "fig=plt.figure(figsize=(20,60))\n",
    "imgZG_afterMedian=medianFilter(Lista_imgZgomotGaussian[index])\n",
    "imgZG_afterAritmetic=aritmeticFilter(Lista_imgZgomotGaussian[index])\n",
    "\n",
    "\n",
    "imgZI_afterMedian=medianFilter(Lista_imgZgomotImpulsiv[index])\n",
    "imgZI_afterAritmetic=aritmeticFilter(Lista_imgZgomotImpulsiv[index])\n",
    "\n",
    "\n",
    "\n",
    "fig.suptitle('Pentru imaginea 3:', fontsize=20)\n",
    "ax1 = fig.add_subplot(611)\n",
    "ax2 = fig.add_subplot(612)\n",
    "ax3 = fig.add_subplot(613)\n",
    "ax4 = fig.add_subplot(614)\n",
    "ax5 = fig.add_subplot(615)\n",
    "ax6 = fig.add_subplot(616)\n",
    "ax1.title.set_text('Imaginea afectata de zgomot gaussian')\n",
    "ax2.title.set_text('Imaginea afectata de zgomot gaussian dupa filtrul median')\n",
    "ax3.title.set_text('Imaginea afectata de zgomot gaussian dupa filtrul medie aritmetica')\n",
    "ax4.title.set_text('Imaginea afectata de zgomot impulsiv')\n",
    "ax5.title.set_text('Imaginea afectata de zgomot impulsiv dupa filtrul median')\n",
    "ax6.title.set_text('Imaginea afectata de zgomot impulsiv dupa filtrul medie aritmetica')\n",
    "ax1.imshow(Lista_imgZgomotGaussian[index])\n",
    "ax2.imshow(imgZG_afterMedian)\n",
    "ax3.imshow(imgZG_afterAritmetic)\n",
    "ax4.imshow(Lista_imgZgomotImpulsiv[index])\n",
    "ax5.imshow(imgZI_afterMedian)\n",
    "ax6.imshow(imgZI_afterAritmetic)\n",
    "plt.show()"
   ]
  },
  {
   "cell_type": "markdown",
   "metadata": {},
   "source": [
    "### Imaginea 4"
   ]
  },
  {
   "cell_type": "code",
   "execution_count": null,
   "metadata": {},
   "outputs": [],
   "source": [
    "index=3\n",
    "fig=plt.figure(figsize=(20,60))\n",
    "imgZG_afterMedian=medianFilter(Lista_imgZgomotGaussian[index])\n",
    "imgZG_afterAritmetic=aritmeticFilter(Lista_imgZgomotGaussian[index])\n",
    "\n",
    "\n",
    "imgZI_afterMedian=medianFilter(Lista_imgZgomotImpulsiv[index])\n",
    "imgZI_afterAritmetic=aritmeticFilter(Lista_imgZgomotImpulsiv[index])\n",
    "\n",
    "\n",
    "\n",
    "fig.suptitle('Pentru imaginea 4:', fontsize=20)\n",
    "ax1 = fig.add_subplot(611)\n",
    "ax2 = fig.add_subplot(612)\n",
    "ax3 = fig.add_subplot(613)\n",
    "ax4 = fig.add_subplot(614)\n",
    "ax5 = fig.add_subplot(615)\n",
    "ax6 = fig.add_subplot(616)\n",
    "ax1.title.set_text('Imaginea afectata de zgomot gaussian')\n",
    "ax2.title.set_text('Imaginea afectata de zgomot gaussian dupa filtrul median')\n",
    "ax3.title.set_text('Imaginea afectata de zgomot gaussian dupa filtrul medie aritmetica')\n",
    "ax4.title.set_text('Imaginea afectata de zgomot impulsiv')\n",
    "ax5.title.set_text('Imaginea afectata de zgomot impulsiv dupa filtrul median')\n",
    "ax6.title.set_text('Imaginea afectata de zgomot impulsiv dupa filtrul medie aritmetica')\n",
    "ax1.imshow(Lista_imgZgomotGaussian[index])\n",
    "ax2.imshow(imgZG_afterMedian)\n",
    "ax3.imshow(imgZG_afterAritmetic)\n",
    "ax4.imshow(Lista_imgZgomotImpulsiv[index])\n",
    "ax5.imshow(imgZI_afterMedian)\n",
    "ax6.imshow(imgZI_afterAritmetic)\n",
    "plt.show()"
   ]
  },
  {
   "cell_type": "markdown",
   "metadata": {},
   "source": [
    "### Imaginea 5"
   ]
  },
  {
   "cell_type": "code",
   "execution_count": null,
   "metadata": {},
   "outputs": [],
   "source": [
    "index=4\n",
    "fig=plt.figure(figsize=(20,60))\n",
    "imgZG_afterMedian=medianFilter(Lista_imgZgomotGaussian[index])\n",
    "imgZG_afterAritmetic=aritmeticFilter(Lista_imgZgomotGaussian[index])\n",
    "\n",
    "\n",
    "imgZI_afterMedian=medianFilter(Lista_imgZgomotImpulsiv[index])\n",
    "imgZI_afterAritmetic=aritmeticFilter(Lista_imgZgomotImpulsiv[index])\n",
    "\n",
    "\n",
    "\n",
    "fig.suptitle('Pentru imaginea 5:', fontsize=20)\n",
    "ax1 = fig.add_subplot(611)\n",
    "ax2 = fig.add_subplot(612)\n",
    "ax3 = fig.add_subplot(613)\n",
    "ax4 = fig.add_subplot(614)\n",
    "ax5 = fig.add_subplot(615)\n",
    "ax6 = fig.add_subplot(616)\n",
    "ax1.title.set_text('Imaginea afectata de zgomot gaussian')\n",
    "ax2.title.set_text('Imaginea afectata de zgomot gaussian dupa filtrul median')\n",
    "ax3.title.set_text('Imaginea afectata de zgomot gaussian dupa filtrul medie aritmetica')\n",
    "ax4.title.set_text('Imaginea afectata de zgomot impulsiv')\n",
    "ax5.title.set_text('Imaginea afectata de zgomot impulsiv dupa filtrul median')\n",
    "ax6.title.set_text('Imaginea afectata de zgomot impulsiv dupa filtrul medie aritmetica')\n",
    "ax1.imshow(Lista_imgZgomotGaussian[index])\n",
    "ax2.imshow(imgZG_afterMedian)\n",
    "ax3.imshow(imgZG_afterAritmetic)\n",
    "ax4.imshow(Lista_imgZgomotImpulsiv[index])\n",
    "ax5.imshow(imgZI_afterMedian)\n",
    "ax6.imshow(imgZI_afterAritmetic)\n",
    "plt.show()"
   ]
  },
  {
   "cell_type": "markdown",
   "metadata": {},
   "source": [
    "### Imaginea 6"
   ]
  },
  {
   "cell_type": "code",
   "execution_count": null,
   "metadata": {},
   "outputs": [],
   "source": [
    "index=5\n",
    "fig=plt.figure(figsize=(20,60))\n",
    "imgZG_afterMedian=medianFilter(Lista_imgZgomotGaussian[index])\n",
    "imgZG_afterAritmetic=aritmeticFilter(Lista_imgZgomotGaussian[index])\n",
    "\n",
    "\n",
    "imgZI_afterMedian=medianFilter(Lista_imgZgomotImpulsiv[index])\n",
    "imgZI_afterAritmetic=aritmeticFilter(Lista_imgZgomotImpulsiv[index])\n",
    "\n",
    "\n",
    "\n",
    "fig.suptitle('Pentru imaginea 6:', fontsize=20)\n",
    "ax1 = fig.add_subplot(611)\n",
    "ax2 = fig.add_subplot(612)\n",
    "ax3 = fig.add_subplot(613)\n",
    "ax4 = fig.add_subplot(614)\n",
    "ax5 = fig.add_subplot(615)\n",
    "ax6 = fig.add_subplot(616)\n",
    "ax1.title.set_text('Imaginea afectata de zgomot gaussian')\n",
    "ax2.title.set_text('Imaginea afectata de zgomot gaussian dupa filtrul median')\n",
    "ax3.title.set_text('Imaginea afectata de zgomot gaussian dupa filtrul medie aritmetica')\n",
    "ax4.title.set_text('Imaginea afectata de zgomot impulsiv')\n",
    "ax5.title.set_text('Imaginea afectata de zgomot impulsiv dupa filtrul median')\n",
    "ax6.title.set_text('Imaginea afectata de zgomot impulsiv dupa filtrul medie aritmetica')\n",
    "ax1.imshow(Lista_imgZgomotGaussian[index])\n",
    "ax2.imshow(imgZG_afterMedian)\n",
    "ax3.imshow(imgZG_afterAritmetic)\n",
    "ax4.imshow(Lista_imgZgomotImpulsiv[index])\n",
    "ax5.imshow(imgZI_afterMedian)\n",
    "ax6.imshow(imgZI_afterAritmetic)\n",
    "plt.show()"
   ]
  },
  {
   "cell_type": "code",
   "execution_count": null,
   "metadata": {},
   "outputs": [],
   "source": []
  }
 ],
 "metadata": {
  "kernelspec": {
   "display_name": "Python 3",
   "language": "python",
   "name": "python3"
  },
  "language_info": {
   "codemirror_mode": {
    "name": "ipython",
    "version": 3
   },
   "file_extension": ".py",
   "mimetype": "text/x-python",
   "name": "python",
   "nbconvert_exporter": "python",
   "pygments_lexer": "ipython3",
   "version": "3.6.7"
  }
 },
 "nbformat": 4,
 "nbformat_minor": 2
}
