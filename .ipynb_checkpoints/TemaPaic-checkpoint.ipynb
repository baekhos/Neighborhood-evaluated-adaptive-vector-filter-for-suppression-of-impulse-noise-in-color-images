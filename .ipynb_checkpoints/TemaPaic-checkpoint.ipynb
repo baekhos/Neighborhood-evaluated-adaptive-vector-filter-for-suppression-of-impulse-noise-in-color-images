{
 "cells": [
  {
   "cell_type": "markdown",
   "metadata": {},
   "source": [
    "# PRELUCRAREA SI ANALIZA IMAGINILOR COLOR- Proiect\n",
    "\n",
    "## Agloritmul:A neighborhood evaluated adaptive vector filter for suppression of impulse noise in color images\n",
    "\n",
    "### Citirea si schibarea rezolutiei pozelor:"
   ]
  },
  {
   "cell_type": "code",
   "execution_count": 1,
   "metadata": {},
   "outputs": [
    {
     "name": "stderr",
     "output_type": "stream",
     "text": [
      "C:\\Users\\Nitroi\\AppData\\Local\\Continuum\\anaconda3\\envs\\PAIC\\lib\\site-packages\\skimage\\transform\\_warps.py:105: UserWarning: The default mode, 'constant', will be changed to 'reflect' in skimage 0.15.\n",
      "  warn(\"The default mode, 'constant', will be changed to 'reflect' in \"\n",
      "C:\\Users\\Nitroi\\AppData\\Local\\Continuum\\anaconda3\\envs\\PAIC\\lib\\site-packages\\skimage\\transform\\_warps.py:110: UserWarning: Anti-aliasing will be enabled by default in skimage 0.15 to avoid aliasing artifacts when down-sampling images.\n",
      "  warn(\"Anti-aliasing will be enabled by default in skimage 0.15 to \"\n"
     ]
    },
    {
     "name": "stdout",
     "output_type": "stream",
     "text": [
      "255.0\n"
     ]
    },
    {
     "data": {
      "text/plain": [
       "<Figure size 4000x6000 with 6 Axes>"
      ]
     },
     "metadata": {},
     "output_type": "display_data"
    }
   ],
   "source": [
    "from skimage import io,color,util\n",
    "import matplotlib.pyplot as plt\n",
    "import numpy as np\n",
    "from skimage.transform import rescale, resize\n",
    "import skimage as sk\n",
    "\n",
    "\n",
    "size = (120, 160)\n",
    "figs=(40,60)\n",
    "fig=plt.figure(figsize=figs)\n",
    "img1 = io.imread('img/pic1.jpg')\n",
    "img1 = resize(img1, size).astype(np.float32)*255\n",
    "\n",
    "img2 = io.imread('img/pic2.jpg')\n",
    "img2 = resize(img2, size).astype(np.float32)*255\n",
    "\n",
    "img3 = io.imread('img/pic3.jpg')\n",
    "img3 = resize(img3, size).astype(np.float32)*255\n",
    "\n",
    "img4 = io.imread('img/pic4.jpg')\n",
    "img4 = resize(img4, size).astype(np.float32)*255\n",
    "\n",
    "img5 = io.imread('img/pic5.jpg')\n",
    "img5 = resize(img5, size).astype(np.float32)*255\n",
    "\n",
    "img6 = io.imread('img/pic6.jpg')\n",
    "img6 = resize(img6, size).astype(np.float32)*255\n",
    "print(np.max(img1))\n",
    "\n",
    "fig.suptitle('Imagini initiale', fontsize=20)\n",
    "ax1 = fig.add_subplot(611)\n",
    "ax2 = fig.add_subplot(612)\n",
    "ax3 = fig.add_subplot(613)\n",
    "ax4 = fig.add_subplot(614)\n",
    "ax5 = fig.add_subplot(615)\n",
    "ax6 = fig.add_subplot(616)\n",
    "ax1.title.set_text('Imaginea 1')\n",
    "ax2.title.set_text('Imaginea 2')\n",
    "ax3.title.set_text('Imaginea 3')\n",
    "ax4.title.set_text('Imaginea 4')\n",
    "ax5.title.set_text('Imaginea 5')\n",
    "ax6.title.set_text('Imaginea 6')\n",
    "ax1.imshow(img1.astype(np.uint8))\n",
    "ax2.imshow(img2.astype(np.uint8))\n",
    "ax3.imshow(img3.astype(np.uint8))\n",
    "ax4.imshow(img4.astype(np.uint8))\n",
    "ax5.imshow(img5.astype(np.uint8))\n",
    "ax6.imshow(img6.astype(np.uint8))\n",
    "plt.show()"
   ]
  },
  {
   "cell_type": "markdown",
   "metadata": {
    "collapsed": true
   },
   "source": [
    "### Functiile pentru zgomot Gaussian, respectiv zgomot impulsiv."
   ]
  },
  {
   "cell_type": "code",
   "execution_count": 2,
   "metadata": {},
   "outputs": [],
   "source": [
    "import os\n",
    "import cv2\n",
    "def gaussianNoise(image,sigma):\n",
    "      row,col,ch= image.shape\n",
    "      mean = 0 \n",
    "      gauss = np.random.normal(mean,sigma,(row,col,ch))\n",
    "      gauss = gauss.reshape(row,col,ch)\n",
    "      noisy = image + gauss\n",
    "      return noisy\n",
    "\n",
    "def saltpepper(image,area):\n",
    "      row,col,ch = image.shape\n",
    "      s_vs_p = 0.5\n",
    "      amount = area/2\n",
    "      #half for salt and half for pepper\n",
    "      out = np.copy(image)\n",
    "      # Salt mode\n",
    "      num_salt = np.ceil(amount * image.size * s_vs_p)\n",
    "      coords = [np.random.randint(0, i - 1, int(num_salt))\n",
    "              for i in image.shape]\n",
    "      out[coords] = 1\n",
    "\n",
    "      # Pepper mode\n",
    "      num_pepper = np.ceil(amount* image.size * (1. - s_vs_p))\n",
    "      coords = [np.random.randint(0, i - 1, int(num_pepper))\n",
    "              for i in image.shape]\n",
    "      out[coords] = 0\n",
    "      return out\n"
   ]
  },
  {
   "cell_type": "markdown",
   "metadata": {},
   "source": [
    "### Adaugarea zgomotului pe imagini"
   ]
  },
  {
   "cell_type": "code",
   "execution_count": 3,
   "metadata": {},
   "outputs": [
    {
     "name": "stderr",
     "output_type": "stream",
     "text": [
      "C:\\Users\\Nitroi\\AppData\\Local\\Continuum\\anaconda3\\envs\\PAIC\\lib\\site-packages\\ipykernel_launcher.py:21: FutureWarning: Using a non-tuple sequence for multidimensional indexing is deprecated; use `arr[tuple(seq)]` instead of `arr[seq]`. In the future this will be interpreted as an array index, `arr[np.array(seq)]`, which will result either in an error or a different result.\n",
      "C:\\Users\\Nitroi\\AppData\\Local\\Continuum\\anaconda3\\envs\\PAIC\\lib\\site-packages\\ipykernel_launcher.py:27: FutureWarning: Using a non-tuple sequence for multidimensional indexing is deprecated; use `arr[tuple(seq)]` instead of `arr[seq]`. In the future this will be interpreted as an array index, `arr[np.array(seq)]`, which will result either in an error or a different result.\n"
     ]
    }
   ],
   "source": [
    "Lista_imgZgomotGaussian=[]\n",
    "Lista_imgZgomotImpulsiv=[]\n",
    "\n",
    "img1ZG=gaussianNoise(img1,0.1)\n",
    "img1ZI=saltpepper(img1,0.1)\n",
    "Lista_imgZgomotGaussian.append(img1ZG)\n",
    "Lista_imgZgomotImpulsiv.append(img1ZI)\n",
    "\n",
    "img2ZG=gaussianNoise(img2,0.1)\n",
    "img2ZI=saltpepper(img2,0.1)\n",
    "Lista_imgZgomotGaussian.append(img2ZG)\n",
    "Lista_imgZgomotImpulsiv.append(img2ZI)\n",
    "\n",
    "img3ZG=gaussianNoise(img3,0.1)\n",
    "img3ZI=saltpepper(img3,0.1)\n",
    "Lista_imgZgomotGaussian.append(img3ZG)\n",
    "Lista_imgZgomotImpulsiv.append(img3ZI)\n",
    "\n",
    "img4ZG=gaussianNoise(img4,0.1)\n",
    "img4ZI=saltpepper(img4,0.1)\n",
    "Lista_imgZgomotGaussian.append(img4ZG)\n",
    "Lista_imgZgomotImpulsiv.append(img4ZI)\n",
    "\n",
    "img5ZG=gaussianNoise(img5,0.1)\n",
    "img5ZI=saltpepper(img5,0.1)\n",
    "Lista_imgZgomotGaussian.append(img5ZG)\n",
    "Lista_imgZgomotImpulsiv.append(img5ZI)\n",
    "\n",
    "img6ZG=gaussianNoise(img6,0.1)\n",
    "img6ZI=saltpepper(img6,0.1)\n",
    "Lista_imgZgomotGaussian.append(img6ZG)\n",
    "Lista_imgZgomotImpulsiv.append(img6ZI)"
   ]
  },
  {
   "cell_type": "markdown",
   "metadata": {},
   "source": [
    "### Implementarea filtrelor clasice mediere si medie aritmetca"
   ]
  },
  {
   "cell_type": "code",
   "execution_count": 4,
   "metadata": {},
   "outputs": [],
   "source": [
    "def medianFilter(img):\n",
    "    L,l,_=img.shape    \n",
    "    imag = img.astype(np.float64).copy()\n",
    "    for i in range(1,L-1):\n",
    "        for j in range(1,l-1):\n",
    "            vR=np.sort(img[i-1:i+2,j-1:j+2,0],axis=None)\n",
    "            vG=np.sort(img[i-1:i+2,j-1:j+2,1],axis=None)\n",
    "            vB=np.sort(img[i-1:i+2,j-1:j+2,2],axis=None)\n",
    "            mean=np.array([vR[4],vG[4],vB[4]])\n",
    "            imag [i,j,0] = vR[4]\n",
    "            imag [i,j,1] = vG[4]\n",
    "            imag [i,j,2] = vB[4]\n",
    "    return imag\n",
    "def aritmeticFilter(img):\n",
    "    L,l,_=img.shape\n",
    "    imag = img.astype(np.float64).copy()\n",
    "    for i in range(1,L-1):\n",
    "        for j in range(1,l-1):\n",
    "            imag [i,j,0] = np.sum(img[i-1:i+2,j-1:j+2,0])/9\n",
    "            imag [i,j,1] = np.sum(img[i-1:i+2,j-1:j+2,1])/9\n",
    "            imag [i,j,2] = np.sum(img[i-1:i+2,j-1:j+2,2])/9\n",
    "    return imag"
   ]
  },
  {
   "cell_type": "markdown",
   "metadata": {},
   "source": [
    "### Implementarea Neighborhood evaluated adaptive filter (NEAVF)"
   ]
  },
  {
   "cell_type": "code",
   "execution_count": 23,
   "metadata": {},
   "outputs": [],
   "source": [
    "import operator\n",
    "def AVD(v):\n",
    "    R=np.zeros(9)\n",
    "    for i in range(0,9):\n",
    "        for j in range(1,9):\n",
    "            R[i]+=np.sqrt((v[i][0]-v[j][0])**2+(v[i][1]-v[j][1])**2+(v[i][2]-v[j][2])**2)\n",
    "    return R\n",
    "def DALS(V,index):\n",
    "    F=((1/4)*(V[4][1]-V[0][1])+5)/((1/index)*(V[index][1]-V[0][1])+1)\n",
    "    return F\n",
    "            \n",
    "def NEAVF(img,h):\n",
    "    L,l,_=img.shape\n",
    "    imag = img.astype(np.float64).copy()\n",
    "    FR=np.ones((L,l))\n",
    "    FG=np.ones((L,l))\n",
    "    FB=np.ones((L,l))\n",
    "    for i in range(1,L-1):\n",
    "        for j in range(1,l-1):\n",
    "            v=img[i-1:i+2,j-1:j+2,:].reshape((9,3))            \n",
    "            v[0],v[4] = v[4],v[0]            \n",
    "            cV=v[0]\n",
    "            V=dict(zip(AVD(v),v))\n",
    "            print(V)        \n",
    "            #sortare dupa AVD\n",
    "            V = sorted(V.items(), key=operator.itemgetter(0))\n",
    "            print(V)\n",
    "            index = [i for i, tupl in enumerate(V) if tupl[1] == cV][0]        \n",
    "            #Lambda=7.5, delta=4.5\n",
    "            if R>=4:\n",
    "                F[i,j]=DALS(V,index)\n",
    "            else:\n",
    "                F[i,j]=1\n",
    "            #print(FR[i,j])    \n",
    "                \n",
    "#     for i in range(1,L-1):\n",
    "#         for j in range(1,l-1):\n",
    "#             HR=np.sum(np.power(FR[i-1:i+2,j-1:j+2].reshape(9), 2))\n",
    "#             HG=np.sum(np.power(FG[i-1:i+2,j-1:j+2].reshape(9), 2))\n",
    "#             HB=np.sum(np.power(FR[i-1:i+2,j-1:j+2].reshape(9), 2))\n",
    "#             print(HR)\n",
    "    return imag"
   ]
  },
  {
   "cell_type": "code",
   "execution_count": 24,
   "metadata": {
    "scrolled": false
   },
   "outputs": [
    {
     "name": "stdout",
     "output_type": "stream",
     "text": [
      "{357.0885234358761: array([ 78., 114.,  67.], dtype=float32), 361.3194229605682: array([ 79.75, 107.75,  77.25], dtype=float32), 448.2886039831234: array([107.25, 134.25,  81.25], dtype=float32), 494.6965229376252: array([43.75, 74.75, 57.75], dtype=float32), 468.2237934294583: array([109.75, 137.75,  79.25], dtype=float32), 857.0765662222616: array([50.25,  1.  , 59.75], dtype=float32), 655.3358089468821: array([  1.  , 116.25,  64.75], dtype=float32), 381.7778370170446: array([ 92.25, 125.75,  69.  ], dtype=float32)}\n",
      "[(357.0885234358761, array([ 78., 114.,  67.], dtype=float32)), (361.3194229605682, array([ 79.75, 107.75,  77.25], dtype=float32)), (381.7778370170446, array([ 92.25, 125.75,  69.  ], dtype=float32)), (448.2886039831234, array([107.25, 134.25,  81.25], dtype=float32)), (468.2237934294583, array([109.75, 137.75,  79.25], dtype=float32)), (494.6965229376252, array([43.75, 74.75, 57.75], dtype=float32)), (655.3358089468821, array([  1.  , 116.25,  64.75], dtype=float32)), (857.0765662222616, array([50.25,  1.  , 59.75], dtype=float32))]\n"
     ]
    },
    {
     "ename": "ValueError",
     "evalue": "The truth value of an array with more than one element is ambiguous. Use a.any() or a.all()",
     "output_type": "error",
     "traceback": [
      "\u001b[1;31m---------------------------------------------------------------------------\u001b[0m",
      "\u001b[1;31mValueError\u001b[0m                                Traceback (most recent call last)",
      "\u001b[1;32m<ipython-input-24-c930f9f35ffe>\u001b[0m in \u001b[0;36m<module>\u001b[1;34m\u001b[0m\n\u001b[0;32m      1\u001b[0m \u001b[1;31m#TEST\u001b[0m\u001b[1;33m\u001b[0m\u001b[1;33m\u001b[0m\u001b[1;33m\u001b[0m\u001b[0m\n\u001b[1;32m----> 2\u001b[1;33m \u001b[0mplt\u001b[0m\u001b[1;33m.\u001b[0m\u001b[0mfigure\u001b[0m\u001b[1;33m(\u001b[0m\u001b[0mfigsize\u001b[0m\u001b[1;33m=\u001b[0m\u001b[1;33m(\u001b[0m\u001b[1;36m10\u001b[0m\u001b[1;33m,\u001b[0m\u001b[1;36m10\u001b[0m\u001b[1;33m)\u001b[0m\u001b[1;33m)\u001b[0m\u001b[1;33m,\u001b[0m \u001b[0mplt\u001b[0m\u001b[1;33m.\u001b[0m\u001b[0mimshow\u001b[0m\u001b[1;33m(\u001b[0m\u001b[0mNEAVF\u001b[0m\u001b[1;33m(\u001b[0m\u001b[0mimg1ZI\u001b[0m\u001b[1;33m,\u001b[0m\u001b[1;36m0.4\u001b[0m\u001b[1;33m)\u001b[0m\u001b[1;33m)\u001b[0m\u001b[1;33m\u001b[0m\u001b[1;33m\u001b[0m\u001b[0m\n\u001b[0m",
      "\u001b[1;32m<ipython-input-23-5c10a139c1ea>\u001b[0m in \u001b[0;36mNEAVF\u001b[1;34m(img, h)\u001b[0m\n\u001b[0;32m     26\u001b[0m             \u001b[0mV\u001b[0m \u001b[1;33m=\u001b[0m \u001b[0msorted\u001b[0m\u001b[1;33m(\u001b[0m\u001b[0mV\u001b[0m\u001b[1;33m.\u001b[0m\u001b[0mitems\u001b[0m\u001b[1;33m(\u001b[0m\u001b[1;33m)\u001b[0m\u001b[1;33m,\u001b[0m \u001b[0mkey\u001b[0m\u001b[1;33m=\u001b[0m\u001b[0moperator\u001b[0m\u001b[1;33m.\u001b[0m\u001b[0mitemgetter\u001b[0m\u001b[1;33m(\u001b[0m\u001b[1;36m0\u001b[0m\u001b[1;33m)\u001b[0m\u001b[1;33m)\u001b[0m\u001b[1;33m\u001b[0m\u001b[1;33m\u001b[0m\u001b[0m\n\u001b[0;32m     27\u001b[0m             \u001b[0mprint\u001b[0m\u001b[1;33m(\u001b[0m\u001b[0mV\u001b[0m\u001b[1;33m)\u001b[0m\u001b[1;33m\u001b[0m\u001b[1;33m\u001b[0m\u001b[0m\n\u001b[1;32m---> 28\u001b[1;33m             \u001b[0mindex\u001b[0m \u001b[1;33m=\u001b[0m \u001b[1;33m[\u001b[0m\u001b[0mi\u001b[0m \u001b[1;32mfor\u001b[0m \u001b[0mi\u001b[0m\u001b[1;33m,\u001b[0m \u001b[0mtupl\u001b[0m \u001b[1;32min\u001b[0m \u001b[0menumerate\u001b[0m\u001b[1;33m(\u001b[0m\u001b[0mV\u001b[0m\u001b[1;33m)\u001b[0m \u001b[1;32mif\u001b[0m \u001b[0mtupl\u001b[0m\u001b[1;33m[\u001b[0m\u001b[1;36m1\u001b[0m\u001b[1;33m]\u001b[0m \u001b[1;33m==\u001b[0m \u001b[0mcV\u001b[0m\u001b[1;33m]\u001b[0m\u001b[1;33m[\u001b[0m\u001b[1;36m0\u001b[0m\u001b[1;33m]\u001b[0m\u001b[1;33m\u001b[0m\u001b[1;33m\u001b[0m\u001b[0m\n\u001b[0m\u001b[0;32m     29\u001b[0m             \u001b[1;31m#Lambda=7.5, delta=4.5\u001b[0m\u001b[1;33m\u001b[0m\u001b[1;33m\u001b[0m\u001b[1;33m\u001b[0m\u001b[0m\n\u001b[0;32m     30\u001b[0m             \u001b[1;32mif\u001b[0m \u001b[0mR\u001b[0m\u001b[1;33m>=\u001b[0m\u001b[1;36m4\u001b[0m\u001b[1;33m:\u001b[0m\u001b[1;33m\u001b[0m\u001b[1;33m\u001b[0m\u001b[0m\n",
      "\u001b[1;32m<ipython-input-23-5c10a139c1ea>\u001b[0m in \u001b[0;36m<listcomp>\u001b[1;34m(.0)\u001b[0m\n\u001b[0;32m     26\u001b[0m             \u001b[0mV\u001b[0m \u001b[1;33m=\u001b[0m \u001b[0msorted\u001b[0m\u001b[1;33m(\u001b[0m\u001b[0mV\u001b[0m\u001b[1;33m.\u001b[0m\u001b[0mitems\u001b[0m\u001b[1;33m(\u001b[0m\u001b[1;33m)\u001b[0m\u001b[1;33m,\u001b[0m \u001b[0mkey\u001b[0m\u001b[1;33m=\u001b[0m\u001b[0moperator\u001b[0m\u001b[1;33m.\u001b[0m\u001b[0mitemgetter\u001b[0m\u001b[1;33m(\u001b[0m\u001b[1;36m0\u001b[0m\u001b[1;33m)\u001b[0m\u001b[1;33m)\u001b[0m\u001b[1;33m\u001b[0m\u001b[1;33m\u001b[0m\u001b[0m\n\u001b[0;32m     27\u001b[0m             \u001b[0mprint\u001b[0m\u001b[1;33m(\u001b[0m\u001b[0mV\u001b[0m\u001b[1;33m)\u001b[0m\u001b[1;33m\u001b[0m\u001b[1;33m\u001b[0m\u001b[0m\n\u001b[1;32m---> 28\u001b[1;33m             \u001b[0mindex\u001b[0m \u001b[1;33m=\u001b[0m \u001b[1;33m[\u001b[0m\u001b[0mi\u001b[0m \u001b[1;32mfor\u001b[0m \u001b[0mi\u001b[0m\u001b[1;33m,\u001b[0m \u001b[0mtupl\u001b[0m \u001b[1;32min\u001b[0m \u001b[0menumerate\u001b[0m\u001b[1;33m(\u001b[0m\u001b[0mV\u001b[0m\u001b[1;33m)\u001b[0m \u001b[1;32mif\u001b[0m \u001b[0mtupl\u001b[0m\u001b[1;33m[\u001b[0m\u001b[1;36m1\u001b[0m\u001b[1;33m]\u001b[0m \u001b[1;33m==\u001b[0m \u001b[0mcV\u001b[0m\u001b[1;33m]\u001b[0m\u001b[1;33m[\u001b[0m\u001b[1;36m0\u001b[0m\u001b[1;33m]\u001b[0m\u001b[1;33m\u001b[0m\u001b[1;33m\u001b[0m\u001b[0m\n\u001b[0m\u001b[0;32m     29\u001b[0m             \u001b[1;31m#Lambda=7.5, delta=4.5\u001b[0m\u001b[1;33m\u001b[0m\u001b[1;33m\u001b[0m\u001b[1;33m\u001b[0m\u001b[0m\n\u001b[0;32m     30\u001b[0m             \u001b[1;32mif\u001b[0m \u001b[0mR\u001b[0m\u001b[1;33m>=\u001b[0m\u001b[1;36m4\u001b[0m\u001b[1;33m:\u001b[0m\u001b[1;33m\u001b[0m\u001b[1;33m\u001b[0m\u001b[0m\n",
      "\u001b[1;31mValueError\u001b[0m: The truth value of an array with more than one element is ambiguous. Use a.any() or a.all()"
     ]
    },
    {
     "data": {
      "text/plain": [
       "<Figure size 720x720 with 0 Axes>"
      ]
     },
     "metadata": {},
     "output_type": "display_data"
    }
   ],
   "source": [
    "#TEST\n",
    "plt.figure(figsize=(10,10)), plt.imshow(NEAVF(img1ZI,0.4))"
   ]
  },
  {
   "cell_type": "markdown",
   "metadata": {},
   "source": [
    "## Functiile utilizate la calculul zgomotului"
   ]
  },
  {
   "cell_type": "code",
   "execution_count": null,
   "metadata": {},
   "outputs": [],
   "source": [
    "def PSNR(imgInit, imgFinal):\n",
    "    mse = np.mean( (imgInit - imgFinal) ** 2 )\n",
    "    if mse == 0:\n",
    "        return 100\n",
    "    PIXEL_MAX = 1\n",
    "    return 20 * math.log10(PIXEL_MAX / math.sqrt(mse))\n",
    "\n",
    "def MAE(imgInit, imgFinal):  \n",
    "    mae = np.sum(np.absolute((imgInit.astype(\"float\") - imgFinal.astype(\"float\"))))\n",
    "    return mae"
   ]
  },
  {
   "cell_type": "markdown",
   "metadata": {},
   "source": [
    "## Comparatia rezultatlor celor 3 filtre\n",
    "### Imaginea 1"
   ]
  },
  {
   "cell_type": "code",
   "execution_count": null,
   "metadata": {},
   "outputs": [],
   "source": [
    "index=0\n",
    "fig=plt.figure(figsize=figs)\n",
    "imgZG_afterMedian=medianFilter(Lista_imgZgomotGaussian[index])\n",
    "imgZG_afterAritmetic=aritmeticFilter(Lista_imgZgomotGaussian[index])\n",
    "\n",
    "\n",
    "imgZI_afterMedian=medianFilter(Lista_imgZgomotImpulsiv[index])\n",
    "imgZI_afterAritmetic=aritmeticFilter(Lista_imgZgomotImpulsiv[index])\n",
    "\n",
    "\n",
    "\n",
    "fig.suptitle('Pentru imaginea 1:', fontsize=50)\n",
    "ax1 = fig.add_subplot(611)\n",
    "ax2 = fig.add_subplot(612)\n",
    "ax3 = fig.add_subplot(613)\n",
    "ax4 = fig.add_subplot(614)\n",
    "ax5 = fig.add_subplot(615)\n",
    "ax6 = fig.add_subplot(616)\n",
    "ax1.title.set_text('Imaginea afectata de zgomot gaussian')\n",
    "ax2.title.set_text('Imaginea afectata de zgomot gaussian dupa filtrul median PSNR: '+ str(PSNR(img1,imgZG_afterMedian))+' si MAE: ' + str(MAE(img1,imgZG_afterMedian)))\n",
    "ax3.title.set_text('Imaginea afectata de zgomot gaussian dupa filtrul medie aritmetica PSNR: '+ str(PSNR(img1,imgZG_afterAritmetic))+' si MAE: ' + str(MAE(img1,imgZG_afterAritmetic)))\n",
    "ax4.title.set_text('Imaginea afectata de zgomot impulsiv')\n",
    "ax5.title.set_text('Imaginea afectata de zgomot impulsiv dupa filtrul median PSNR: '+ str(PSNR(img1,imgZI_afterMedian))+' si MAE: ' + str(MAE(img1,imgZI_afterMedian)))\n",
    "ax6.title.set_text('Imaginea afectata de zgomot impulsiv dupa filtrul medie aritmetica PSNR: '+ str(PSNR(img1,imgZI_afterAritmetic))+' si MAE: ' + str(MAE(img1,imgZI_afterAritmetic)))\n",
    "ax1.imshow(Lista_imgZgomotGaussian[index])\n",
    "ax2.imshow(imgZG_afterMedian)\n",
    "ax3.imshow(imgZG_afterAritmetic)\n",
    "ax4.imshow(Lista_imgZgomotImpulsiv[index])\n",
    "ax5.imshow(imgZI_afterMedian)\n",
    "ax6.imshow(imgZI_afterAritmetic)\n",
    "plt.show()"
   ]
  },
  {
   "cell_type": "markdown",
   "metadata": {},
   "source": [
    "### Imaginea 2"
   ]
  },
  {
   "cell_type": "code",
   "execution_count": null,
   "metadata": {},
   "outputs": [],
   "source": [
    "index=1\n",
    "fig=plt.figure(figsize=figs)\n",
    "imgZG_afterMedian=medianFilter(Lista_imgZgomotGaussian[index])\n",
    "imgZG_afterAritmetic=aritmeticFilter(Lista_imgZgomotGaussian[index])\n",
    "\n",
    "\n",
    "imgZI_afterMedian=medianFilter(Lista_imgZgomotImpulsiv[index])\n",
    "imgZI_afterAritmetic=aritmeticFilter(Lista_imgZgomotImpulsiv[index])\n",
    "\n",
    "\n",
    "\n",
    "fig.suptitle('Pentru imaginea 2:', fontsize=50)\n",
    "ax1 = fig.add_subplot(611)\n",
    "ax2 = fig.add_subplot(612)\n",
    "ax3 = fig.add_subplot(613)\n",
    "ax4 = fig.add_subplot(614)\n",
    "ax5 = fig.add_subplot(615)\n",
    "ax6 = fig.add_subplot(616)\n",
    "ax1.title.set_text('Imaginea afectata de zgomot gaussian')\n",
    "ax2.title.set_text('Imaginea afectata de zgomot gaussian dupa filtrul median PSNR: '+ str(PSNR(img2,imgZG_afterMedian))+' si MAE: ' + str(MAE(img2,imgZG_afterMedian)))\n",
    "ax3.title.set_text('Imaginea afectata de zgomot gaussian dupa filtrul medie aritmetica PSNR: '+ str(PSNR(img2,imgZG_afterAritmetic))+' si MAE: ' + str(MAE(img2,imgZG_afterAritmetic)))\n",
    "ax4.title.set_text('Imaginea afectata de zgomot impulsiv')\n",
    "ax5.title.set_text('Imaginea afectata de zgomot impulsiv dupa filtrul median PSNR: '+ str(PSNR(img2,imgZI_afterMedian))+' si MAE: ' + str(MAE(img2,imgZI_afterMedian)))\n",
    "ax6.title.set_text('Imaginea afectata de zgomot impulsiv dupa filtrul medie aritmetica PSNR: '+ str(PSNR(img2,imgZI_afterAritmetic))+' si MAE: ' + str(MAE(img2,imgZI_afterAritmetic)))\n",
    "ax1.imshow(Lista_imgZgomotGaussian[index])\n",
    "ax2.imshow(imgZG_afterMedian)\n",
    "ax3.imshow(imgZG_afterAritmetic)\n",
    "ax4.imshow(Lista_imgZgomotImpulsiv[index])\n",
    "ax5.imshow(imgZI_afterMedian)\n",
    "ax6.imshow(imgZI_afterAritmetic)\n",
    "plt.show()"
   ]
  },
  {
   "cell_type": "markdown",
   "metadata": {},
   "source": [
    "### Imaginea 3"
   ]
  },
  {
   "cell_type": "code",
   "execution_count": null,
   "metadata": {},
   "outputs": [],
   "source": [
    "index=2\n",
    "fig=plt.figure(figsize=figs)\n",
    "imgZG_afterMedian=medianFilter(Lista_imgZgomotGaussian[index])\n",
    "imgZG_afterAritmetic=aritmeticFilter(Lista_imgZgomotGaussian[index])\n",
    "\n",
    "\n",
    "imgZI_afterMedian=medianFilter(Lista_imgZgomotImpulsiv[index])\n",
    "imgZI_afterAritmetic=aritmeticFilter(Lista_imgZgomotImpulsiv[index])\n",
    "\n",
    "\n",
    "\n",
    "fig.suptitle('Pentru imaginea 3:', fontsize=50)\n",
    "ax1 = fig.add_subplot(611)\n",
    "ax2 = fig.add_subplot(612)\n",
    "ax3 = fig.add_subplot(613)\n",
    "ax4 = fig.add_subplot(614)\n",
    "ax5 = fig.add_subplot(615)\n",
    "ax6 = fig.add_subplot(616)\n",
    "ax1.title.set_text('Imaginea afectata de zgomot gaussian')\n",
    "ax2.title.set_text('Imaginea afectata de zgomot gaussian dupa filtrul median PSNR: '+ str(PSNR(img3,imgZG_afterMedian))+' si MAE: ' + str(MAE(img3,imgZG_afterMedian)))\n",
    "ax3.title.set_text('Imaginea afectata de zgomot gaussian dupa filtrul medie aritmetica PSNR: '+ str(PSNR(img3,imgZG_afterAritmetic))+' si MAE: ' + str(MAE(img3,imgZG_afterAritmetic)))\n",
    "ax4.title.set_text('Imaginea afectata de zgomot impulsiv')\n",
    "ax5.title.set_text('Imaginea afectata de zgomot impulsiv dupa filtrul median PSNR: '+ str(PSNR(img3,imgZI_afterMedian))+' si MAE: ' + str(MAE(img3,imgZI_afterMedian)))\n",
    "ax6.title.set_text('Imaginea afectata de zgomot impulsiv dupa filtrul medie aritmetica PSNR: '+ str(PSNR(img3,imgZI_afterAritmetic))+' si MAE: ' + str(MAE(img3,imgZI_afterAritmetic)))\n",
    "ax1.imshow(Lista_imgZgomotGaussian[index])\n",
    "ax2.imshow(imgZG_afterMedian)\n",
    "ax3.imshow(imgZG_afterAritmetic)\n",
    "ax4.imshow(Lista_imgZgomotImpulsiv[index])\n",
    "ax5.imshow(imgZI_afterMedian)\n",
    "ax6.imshow(imgZI_afterAritmetic)\n",
    "plt.show()"
   ]
  },
  {
   "cell_type": "markdown",
   "metadata": {},
   "source": [
    "### Imaginea 4"
   ]
  },
  {
   "cell_type": "code",
   "execution_count": null,
   "metadata": {},
   "outputs": [],
   "source": [
    "index=3\n",
    "fig=plt.figure(figsize=figs)\n",
    "imgZG_afterMedian=medianFilter(Lista_imgZgomotGaussian[index])\n",
    "imgZG_afterAritmetic=aritmeticFilter(Lista_imgZgomotGaussian[index])\n",
    "\n",
    "\n",
    "imgZI_afterMedian=medianFilter(Lista_imgZgomotImpulsiv[index])\n",
    "imgZI_afterAritmetic=aritmeticFilter(Lista_imgZgomotImpulsiv[index])\n",
    "\n",
    "\n",
    "\n",
    "fig.suptitle('Pentru imaginea 4:', fontsize=50)\n",
    "ax1 = fig.add_subplot(611)\n",
    "ax2 = fig.add_subplot(612)\n",
    "ax3 = fig.add_subplot(613)\n",
    "ax4 = fig.add_subplot(614)\n",
    "ax5 = fig.add_subplot(615)\n",
    "ax6 = fig.add_subplot(616)\n",
    "ax1.title.set_text('Imaginea afectata de zgomot gaussian')\n",
    "ax2.title.set_text('Imaginea afectata de zgomot gaussian dupa filtrul median PSNR: '+ str(PSNR(img4,imgZG_afterMedian))+' si MAE: ' + str(MAE(img4,imgZG_afterMedian)))\n",
    "ax3.title.set_text('Imaginea afectata de zgomot gaussian dupa filtrul medie aritmetica PSNR: '+ str(PSNR(img4,imgZG_afterAritmetic))+' si MAE: ' + str(MAE(img4,imgZG_afterAritmetic)))\n",
    "ax4.title.set_text('Imaginea afectata de zgomot impulsiv')\n",
    "ax5.title.set_text('Imaginea afectata de zgomot impulsiv dupa filtrul median PSNR: '+ str(PSNR(img4,imgZI_afterMedian))+' si MAE: ' + str(MAE(img4,imgZI_afterMedian)))\n",
    "ax6.title.set_text('Imaginea afectata de zgomot impulsiv dupa filtrul medie aritmetica PSNR: '+ str(PSNR(img4,imgZI_afterAritmetic))+' si MAE: ' + str(MAE(img4,imgZI_afterAritmetic)))\n",
    "ax1.imshow(Lista_imgZgomotGaussian[index])\n",
    "ax2.imshow(imgZG_afterMedian)\n",
    "ax3.imshow(imgZG_afterAritmetic)\n",
    "ax4.imshow(Lista_imgZgomotImpulsiv[index])\n",
    "ax5.imshow(imgZI_afterMedian)\n",
    "ax6.imshow(imgZI_afterAritmetic)\n",
    "plt.show()"
   ]
  },
  {
   "cell_type": "markdown",
   "metadata": {},
   "source": [
    "### Imaginea 5"
   ]
  },
  {
   "cell_type": "code",
   "execution_count": null,
   "metadata": {},
   "outputs": [],
   "source": [
    "index=4\n",
    "fig=plt.figure(figsize=figs)\n",
    "imgZG_afterMedian=medianFilter(Lista_imgZgomotGaussian[index])\n",
    "imgZG_afterAritmetic=aritmeticFilter(Lista_imgZgomotGaussian[index])\n",
    "\n",
    "\n",
    "imgZI_afterMedian=medianFilter(Lista_imgZgomotImpulsiv[index])\n",
    "imgZI_afterAritmetic=aritmeticFilter(Lista_imgZgomotImpulsiv[index])\n",
    "\n",
    "\n",
    "\n",
    "fig.suptitle('Pentru imaginea 5:', fontsize=50)\n",
    "ax1 = fig.add_subplot(611)\n",
    "ax2 = fig.add_subplot(612)\n",
    "ax3 = fig.add_subplot(613)\n",
    "ax4 = fig.add_subplot(614)\n",
    "ax5 = fig.add_subplot(615)\n",
    "ax6 = fig.add_subplot(616)\n",
    "ax1.title.set_text('Imaginea afectata de zgomot gaussian')\n",
    "ax2.title.set_text('Imaginea afectata de zgomot gaussian dupa filtrul median PSNR: '+ str(PSNR(img5,imgZG_afterMedian))+' si MAE: ' + str(MAE(img5,imgZG_afterMedian)))\n",
    "ax3.title.set_text('Imaginea afectata de zgomot gaussian dupa filtrul medie aritmetica PSNR: '+ str(PSNR(img5,imgZG_afterAritmetic))+' si MAE: ' + str(MAE(img5,imgZG_afterAritmetic)))\n",
    "ax4.title.set_text('Imaginea afectata de zgomot impulsiv')\n",
    "ax5.title.set_text('Imaginea afectata de zgomot impulsiv dupa filtrul median PSNR: '+ str(PSNR(img5,imgZI_afterMedian))+' si MAE: ' + str(MAE(img5,imgZI_afterMedian)))\n",
    "ax6.title.set_text('Imaginea afectata de zgomot impulsiv dupa filtrul medie aritmetica PSNR: '+ str(PSNR(img5,imgZI_afterAritmetic))+' si MAE: ' + str(MAE(img5,imgZI_afterAritmetic)))\n",
    "ax1.imshow(Lista_imgZgomotGaussian[index])\n",
    "ax2.imshow(imgZG_afterMedian)\n",
    "ax3.imshow(imgZG_afterAritmetic)\n",
    "ax4.imshow(Lista_imgZgomotImpulsiv[index])\n",
    "ax5.imshow(imgZI_afterMedian)\n",
    "ax6.imshow(imgZI_afterAritmetic)\n",
    "plt.show()"
   ]
  },
  {
   "cell_type": "markdown",
   "metadata": {},
   "source": [
    "### Imaginea 6"
   ]
  },
  {
   "cell_type": "code",
   "execution_count": null,
   "metadata": {},
   "outputs": [],
   "source": [
    "index=5\n",
    "fig=plt.figure(figsize=figs)\n",
    "imgZG_afterMedian=medianFilter(Lista_imgZgomotGaussian[index])\n",
    "imgZG_afterAritmetic=aritmeticFilter(Lista_imgZgomotGaussian[index])\n",
    "\n",
    "\n",
    "imgZI_afterMedian=medianFilter(Lista_imgZgomotImpulsiv[index])\n",
    "imgZI_afterAritmetic=aritmeticFilter(Lista_imgZgomotImpulsiv[index])\n",
    "\n",
    "\n",
    "\n",
    "fig.suptitle('Pentru imaginea 6:', fontsize=50)\n",
    "ax1 = fig.add_subplot(611)\n",
    "ax2 = fig.add_subplot(612)\n",
    "ax3 = fig.add_subplot(613)\n",
    "ax4 = fig.add_subplot(614)\n",
    "ax5 = fig.add_subplot(615)\n",
    "ax6 = fig.add_subplot(616)\n",
    "ax1.title.set_text('Imaginea afectata de zgomot gaussian')\n",
    "ax2.title.set_text('Imaginea afectata de zgomot gaussian dupa filtrul median PSNR: '+ str(PSNR(img6,imgZG_afterMedian))+' si MAE: ' + str(MAE(img6,imgZG_afterMedian)))\n",
    "ax3.title.set_text('Imaginea afectata de zgomot gaussian dupa filtrul medie aritmetica PSNR: '+ str(PSNR(img6,imgZG_afterAritmetic))+' si MAE: ' + str(MAE(img6,imgZG_afterAritmetic)))\n",
    "ax4.title.set_text('Imaginea afectata de zgomot impulsiv')\n",
    "ax5.title.set_text('Imaginea afectata de zgomot impulsiv dupa filtrul median PSNR: '+ str(PSNR(img6,imgZI_afterMedian))+' si MAE: ' + str(MAE(img6,imgZI_afterMedian)))\n",
    "ax6.title.set_text('Imaginea afectata de zgomot impulsiv dupa filtrul medie aritmetica PSNR: '+ str(PSNR(img6,imgZI_afterAritmetic))+' si MAE: ' + str(MAE(img6,imgZI_afterAritmetic)))\n",
    "ax1.imshow(Lista_imgZgomotGaussian[index])\n",
    "ax2.imshow(imgZG_afterMedian)\n",
    "ax3.imshow(imgZG_afterAritmetic)\n",
    "ax4.imshow(Lista_imgZgomotImpulsiv[index])\n",
    "ax5.imshow(imgZI_afterMedian)\n",
    "ax6.imshow(imgZI_afterAritmetic)\n",
    "plt.show()"
   ]
  },
  {
   "cell_type": "code",
   "execution_count": null,
   "metadata": {},
   "outputs": [],
   "source": [
    "def dist(x,y):\n",
    "    return np.sqrt((x[0]-y[0])**2 + (x[1]-y[1])**2 +(x[2]-y[2])**2)\n",
    "\n",
    "import cv2\n",
    "import numpy as np\n",
    "img =  cv2.imread('img/pic1.jpg')\n",
    "\n",
    "A = img [100:103,100:103,:]\n",
    "#A[1,1,1] = 255\n",
    "print(A)\n",
    "A = A.astype(np.float32)/255\n",
    "print(A)\n",
    "D = np.zeros([3,3])\n",
    "\n",
    "for i in range(3):\n",
    "    for j in range(3):\n",
    "        \n",
    "        for k in range(3):\n",
    "            for l in range(3):\n",
    "                if k==1 and l == 1:\n",
    "                    continue\n",
    "                D[i,j] += dist(A[i,j,:],A[k,l,:])\n",
    " \n",
    "print(D)\n",
    "#print(np.sort(D,axis=None))\n",
    "\n"
   ]
  },
  {
   "cell_type": "code",
   "execution_count": null,
   "metadata": {},
   "outputs": [],
   "source": []
  }
 ],
 "metadata": {
  "kernelspec": {
   "display_name": "Python 3",
   "language": "python",
   "name": "python3"
  },
  "language_info": {
   "codemirror_mode": {
    "name": "ipython",
    "version": 3
   },
   "file_extension": ".py",
   "mimetype": "text/x-python",
   "name": "python",
   "nbconvert_exporter": "python",
   "pygments_lexer": "ipython3",
   "version": "3.6.7"
  }
 },
 "nbformat": 4,
 "nbformat_minor": 2
}
